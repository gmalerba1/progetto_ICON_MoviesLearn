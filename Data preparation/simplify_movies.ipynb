{
 "cells": [
  {
   "cell_type": "code",
   "execution_count": 5,
   "id": "d6b6574a",
   "metadata": {},
   "outputs": [],
   "source": [
    "#-------------------------------------------------------\n",
    "# Semplifica il file movies_metadata.csv, eliminando alcune colonne\n",
    "#-------------------------------------------------------\n",
    "from io import StringIO\n",
    "import pandas as pd\n",
    "import csv\n",
    "\n",
    "\n",
    "with open('movies_metadata.csv', 'r') as file_originale:\n",
    "    \n",
    "    dati = file_originale.read().splitlines()\n",
    "        \n",
    "\n",
    "df_temp = pd.read_csv(StringIO('\\n'.join(dati)), header = None, dtype = object)\n",
    "\n",
    "colonne_selezionate = [2, 3, 5, 7, 10, 12, 14, 15, 16, 20, 22, 23]\n",
    "\n",
    "indici_validi = set(colonne_selezionate).intersection(set(range(df_temp.shape[1])))\n",
    "df_nuovo = df_temp.iloc[:, list(indici_validi)]\n",
    "\n",
    "df_nuovo.to_csv('nuovo_file.csv', index = False, header = False)\n",
    "\n",
    "def elimina_riga_csv(file_input, file_output, numeri_righe_da_elimare):\n",
    "    with open(file_input, 'r', newline='') as csvfile_in, open(file_output, 'w', newline='') as csvfile_out:\n",
    "        lettore = csv.reader(csvfile_in)\n",
    "        scrittore = csv.writer(csvfile_out)\n",
    "\n",
    "        # Copia tutte le righe tranne quelle con i numeri specificati\n",
    "        for numero_riga, riga in enumerate(lettore, start=1):\n",
    "            if numero_riga not in numeri_righe_da_elimare:\n",
    "                scrittore.writerow(riga)\n",
    "\n",
    "# Specifica il nome del tuo file CSV di input e output\n",
    "file_input = 'nuovo_file.csv'\n",
    "file_output = 'movies_provvisorio.csv'\n",
    "\n",
    "# Specifica i numeri delle righe da eliminare\n",
    "numeri_righe_da_elimare = {19731, 19732, 29504, 29505, 35588, 35589}\n",
    "\n",
    "# Chiama la funzione per eliminare le righe specificate\n",
    "elimina_riga_csv(file_input, file_output, numeri_righe_da_elimare)"
   ]
  },
  {
   "cell_type": "code",
   "execution_count": null,
   "id": "89c24246",
   "metadata": {},
   "outputs": [],
   "source": []
  }
 ],
 "metadata": {
  "kernelspec": {
   "display_name": "Python 3 (ipykernel)",
   "language": "python",
   "name": "python3"
  },
  "language_info": {
   "codemirror_mode": {
    "name": "ipython",
    "version": 3
   },
   "file_extension": ".py",
   "mimetype": "text/x-python",
   "name": "python",
   "nbconvert_exporter": "python",
   "pygments_lexer": "ipython3",
   "version": "3.11.5"
  }
 },
 "nbformat": 4,
 "nbformat_minor": 5
}
