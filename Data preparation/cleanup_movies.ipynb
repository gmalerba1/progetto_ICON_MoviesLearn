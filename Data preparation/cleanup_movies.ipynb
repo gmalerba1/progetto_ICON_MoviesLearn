{
 "cells": [
  {
   "cell_type": "code",
   "execution_count": 24,
   "id": "c2fb76b9",
   "metadata": {},
   "outputs": [],
   "source": [
    "import pandas as pd\n",
    "import csv\n",
    "import ast\n",
    "\n",
    "\n",
    "# Carica il file CSV in un DataFrame pandas\n",
    "df = pd.read_csv('movie_provvisorio.csv')\n",
    "\n",
    "# Funzione per ottenere la prima stringa dopo 'name' dalla lista di dizionari\n",
    "def ottieni_primo_genere(lista_genres):\n",
    "    if pd.notna(lista_genres):\n",
    "        try:\n",
    "            lista = ast.literal_eval(lista_genres)\n",
    "            if lista and isinstance(lista, list):\n",
    "                primo_genere = lista[0]['name']\n",
    "                return primo_genere\n",
    "        except (ValueError, SyntaxError):\n",
    "            pass\n",
    "    return None\n",
    "\n",
    "\n",
    "def ottieni_prima_compagnia(lista_production_companies):\n",
    "    if pd.notna(lista_production_companies):\n",
    "        try:\n",
    "            lista = ast.literal_eval(lista_production_companies)\n",
    "            if lista and isinstance(lista, list):\n",
    "                prima_compagnia = lista[0]['name']\n",
    "                return prima_compagnia\n",
    "        except (ValueError, SyntaxError):\n",
    "            pass\n",
    "    return None\n",
    "\n",
    "\n",
    "# Applica la trasformazione sulla colonna 'genres'\n",
    "df['genres'] = df['genres'].apply(ottieni_primo_genere)\n",
    "\n",
    "#Applica la trasformazione sulla colonna 'production_companies'\n",
    "df['production_companies'] = df['production_companies'].apply(ottieni_prima_compagnia)\n",
    "\n",
    "# Salva il DataFrame modificato nel file CSV\n",
    "df.to_csv('movies_final.csv', index=False, quoting=csv.QUOTE_NONNUMERIC)"
   ]
  },
  {
   "cell_type": "code",
   "execution_count": null,
   "id": "67a2c26a",
   "metadata": {},
   "outputs": [],
   "source": []
  }
 ],
 "metadata": {
  "kernelspec": {
   "display_name": "Python 3 (ipykernel)",
   "language": "python",
   "name": "python3"
  },
  "language_info": {
   "codemirror_mode": {
    "name": "ipython",
    "version": 3
   },
   "file_extension": ".py",
   "mimetype": "text/x-python",
   "name": "python",
   "nbconvert_exporter": "python",
   "pygments_lexer": "ipython3",
   "version": "3.11.5"
  }
 },
 "nbformat": 4,
 "nbformat_minor": 5
}
